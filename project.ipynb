{
  "nbformat": 4,
  "nbformat_minor": 0,
  "metadata": {
    "colab": {
      "name": "project",
      "provenance": []
    },
    "kernelspec": {
      "name": "python3",
      "display_name": "Python 3"
    }
  },
  "cells": [
    {
      "cell_type": "code",
      "metadata": {
        "id": "w4qlKLSXgWHB",
        "colab_type": "code",
        "colab": {}
      },
      "source": [
        ""
      ],
      "execution_count": 0,
      "outputs": []
    },
    {
      "cell_type": "markdown",
      "metadata": {
        "id": "IIG82eKggZsx",
        "colab_type": "text"
      },
      "source": [
        "### Project name(Application name-contact app)\n",
        "* Add a contact detail.\n",
        "* Search the contact details.\n",
        "* To modify the contact detail.\n",
        "* To delete the contact detail."
      ]
    },
    {
      "cell_type": "code",
      "metadata": {
        "id": "4uJ42Gofgjxr",
        "colab_type": "code",
        "colab": {}
      },
      "source": [
        ""
      ],
      "execution_count": 0,
      "outputs": []
    },
    {
      "cell_type": "code",
      "metadata": {
        "id": "TbPozWk4EVPG",
        "colab_type": "code",
        "colab": {}
      },
      "source": [
        "Contacts = {} # Empty dict object is taken\n",
        "#Lets create a function to add a contact details\n",
        "def addContacts(name,phone):\n",
        "    return\n",
        "addContacts('JASWANTHI','9398534210')\n"
      ],
      "execution_count": 0,
      "outputs": []
    },
    {
      "cell_type": "code",
      "metadata": {
        "id": "mEUzUCaMJwe0",
        "colab_type": "code",
        "colab": {
          "base_uri": "https://localhost:8080/",
          "height": 102
        },
        "outputId": "6de1df09-40e3-49e1-a175-49fc54fc06d8"
      },
      "source": [
        "Contacts = {} # Empty dict object is taken\n",
        "#Lets create a function to add a contact details\n",
        "def addContact(name,phone):\n",
        "    if name not in Contacts:\n",
        "         Contacts[name]=phone\n",
        "         print(\"the contact is added succesfully\")\n",
        "    else:\n",
        "        print(\"the contact is already there in contact list\")\n",
        "    return\n",
        "addContact('daddy','9885741807')\n",
        "addContact('mom','9032743239')\n",
        "addContact('sahi','86913609')\n",
        "addContact('JASWANTHI','9398534210')\n",
        "addContact('daddy','9885741807')\n",
        "\n"
      ],
      "execution_count": 24,
      "outputs": [
        {
          "output_type": "stream",
          "text": [
            "the contact is added succesfully\n",
            "the contact is added succesfully\n",
            "the contact is added succesfully\n",
            "the contact is added succesfully\n",
            "the contact is already there in contact list\n"
          ],
          "name": "stdout"
        }
      ]
    },
    {
      "cell_type": "code",
      "metadata": {
        "id": "E4Uva_jPNFrc",
        "colab_type": "code",
        "colab": {
          "base_uri": "https://localhost:8080/",
          "height": 102
        },
        "outputId": "6a7cc5bb-31df-4de6-fc2f-938bef324bfb"
      },
      "source": [
        "Contact = {} # Empty dict object is taken\n",
        "#Lets create a function to add a contact details\n",
        "def addContact(name,phone):\n",
        "    if name not in Contact:\n",
        "         Contact[name]=phone\n",
        "         print(\"the contact is added succesfully\")\n",
        "    else:\n",
        "        print(\"the contact is already there in contact list\")\n",
        "    return\n",
        "addContact('daddy','9885741807')\n",
        "addContact('mom','9032743239')\n",
        "addContact('sahi','86913609')\n",
        "addContact('JASWANTHI','9398534210')\n",
        "addContact('daddy','9885741807')"
      ],
      "execution_count": 25,
      "outputs": [
        {
          "output_type": "stream",
          "text": [
            "the contact is added succesfully\n",
            "the contact is added succesfully\n",
            "the contact is added succesfully\n",
            "the contact is added succesfully\n",
            "the contact is already there in contact list\n"
          ],
          "name": "stdout"
        }
      ]
    },
    {
      "cell_type": "code",
      "metadata": {
        "id": "pGL4rIEnNQ-c",
        "colab_type": "code",
        "colab": {
          "base_uri": "https://localhost:8080/",
          "height": 85
        },
        "outputId": "54b65194-52d5-4204-8507-7c38efc9ba05"
      },
      "source": [
        "Contact"
      ],
      "execution_count": 26,
      "outputs": [
        {
          "output_type": "execute_result",
          "data": {
            "text/plain": [
              "{'JASWANTHI': '9398534210',\n",
              " 'daddy': '9885741807',\n",
              " 'mom': '9032743239',\n",
              " 'sahi': '86913609'}"
            ]
          },
          "metadata": {
            "tags": []
          },
          "execution_count": 26
        }
      ]
    },
    {
      "cell_type": "code",
      "metadata": {
        "id": "TzXbO5LZNXQh",
        "colab_type": "code",
        "colab": {
          "base_uri": "https://localhost:8080/",
          "height": 68
        },
        "outputId": "852d9311-f424-495a-d7f9-e431d962968b"
      },
      "source": [
        "def searchContact(name):\n",
        "    if name in Contact:\n",
        "        print(name,\":\",Contact[name])\n",
        "    else:\n",
        "        print(name,'the name doesnot exist')\n",
        "    return\n",
        "searchContact('JASWANTHI')\n",
        "searchContact('daddy')\n",
        "searchContact('nani')\n",
        "\n",
        "\n",
        "\n",
        "\n"
      ],
      "execution_count": 30,
      "outputs": [
        {
          "output_type": "stream",
          "text": [
            "JASWANTHI : 9398534210\n",
            "daddy : 9885741807\n",
            "nani the name doesnot exist\n"
          ],
          "name": "stdout"
        }
      ]
    },
    {
      "cell_type": "code",
      "metadata": {
        "id": "1S9waRmzQrZ0",
        "colab_type": "code",
        "colab": {
          "base_uri": "https://localhost:8080/",
          "height": 68
        },
        "outputId": "f1a439fe-6ef0-4ab0-8632-a30e2b28f13d"
      },
      "source": [
        "def modifyContact(name,phone):\n",
        "    if name in Contact:\n",
        "        Contact[name]=phone\n",
        "        print(name,\"updated succesfully\")\n",
        "    else:\n",
        "        print(name,\"not exists\")\n",
        "        return\n",
        "modifyContact('JASWANTHI',999999999)\n",
        "modifyContact('daddy',9885741807)\n",
        "modifyContact('nani',9741366452)\n"
      ],
      "execution_count": 38,
      "outputs": [
        {
          "output_type": "stream",
          "text": [
            "JASWANTHI updated succesfully\n",
            "daddy updated succesfully\n",
            "nani not exists\n"
          ],
          "name": "stdout"
        }
      ]
    },
    {
      "cell_type": "code",
      "metadata": {
        "id": "fQVStBxBUNLs",
        "colab_type": "code",
        "colab": {
          "base_uri": "https://localhost:8080/",
          "height": 51
        },
        "outputId": "143972c0-c982-4dde-9b18-e52b53a7e0a3"
      },
      "source": [
        "def deleteContact(name):\n",
        "    if name in Contact:\n",
        "        del Contact[name]\n",
        "        print(name,\"the contact is deleted\")\n",
        "    else:\n",
        "        print(name,\"the contact is not found\")\n",
        "        return\n",
        "deleteContact(\"JASWANTHI\") \n",
        "deleteContact(\"nani\")       "
      ],
      "execution_count": 47,
      "outputs": [
        {
          "output_type": "stream",
          "text": [
            "JASWANTHI the contact is deleted\n",
            "nani the contact is not found\n"
          ],
          "name": "stdout"
        }
      ]
    }
  ]
}